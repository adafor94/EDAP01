{
 "cells": [
  {
   "cell_type": "markdown",
   "metadata": {},
   "source": [
    "### Python based viewer tool for \"Probabilistic Reasoning over time\", EDAP01 Artificial Intelligence\n",
    "This notebook has been provided to you by Alexander Dürr, teaching assistant on the course, spring term 2021. It is based on the ideas and structure of the original Java skeleton for this assignment, provided by Elin A. Topp. Contact us (elin_anna.topp at cs.lth.se) in case you need help!"
   ]
  },
  {
   "cell_type": "markdown",
   "metadata": {},
   "source": [
    "### Note: Installing and activating widgets for Jupyter Notebook\n",
    "To be able to display the visualization (dashboard,animations,etc.) you have to initially install the package  if you don't have it yet"
   ]
  },
  {
   "cell_type": "raw",
   "metadata": {},
   "source": [
    "pip install ipywidgets"
   ]
  },
  {
   "cell_type": "markdown",
   "metadata": {},
   "source": [
    "### Note: Use Jupyter Lab for programming, Jupyter Notebook for visualization (optional)\n",
    "This command only enables the extension for jupyter notebook and not in jupyter lab! You can edit from the comfort of jupyter lab though and when you feel like using the widgets just go to\n",
    "\n",
    "Menu bar > Help > Launch Classic Notebook"
   ]
  },
  {
   "cell_type": "raw",
   "metadata": {},
   "source": [
    "jupyter nbextension enable --py widgetsnbextension"
   ]
  },
  {
   "cell_type": "markdown",
   "metadata": {},
   "source": [
    "## Here we go... all imports go through the models\n",
    "\n",
    "### Your job is in the files Localizer.py and RobotSimAndFilter.py"
   ]
  },
  {
   "cell_type": "code",
   "execution_count": null,
   "metadata": {
    "scrolled": false
   },
   "outputs": [],
   "source": [
    "# In models, all the actually interesting stuff is located, in Localizer and RobotSimAndFilter \n",
    "# you can write your own code. Note that the visualization assumes to have access to an object of type\n",
    "# Localizer, i.e., you should definitely use that to implement the main \"three step cycle\" according to the \n",
    "# instructions.\n",
    "\n",
    "from models import *\n",
    "#import numpy as np\n",
    "#import sys\n",
    "# Testing the models, e.g., for an 4x8 grid\n",
    "#np.set_printoptions(threshold=sys.maxsize)\n",
    "\n",
    "states = StateModel( 4, 8)\n",
    "loc = Localizer( states)\n",
    "tMat = loc.get_transition_model()\n",
    "sVecs = loc.get_observation_model()\n",
    "tMat.plot_T()\n",
    "sVecs.plot_o_diags()\n",
    "#print(sVecs.get_o_reading(0))\n",
    "print(\"NONE reading:\", sVecs.get_o_reading(None))\n",
    "\n",
    "print(loc.update())"
   ]
  },
  {
   "cell_type": "markdown",
   "metadata": {},
   "source": [
    "### Write your own \"main\" here (without the viewer)"
   ]
  },
  {
   "cell_type": "code",
   "execution_count": null,
   "metadata": {
    "scrolled": true
   },
   "outputs": [],
   "source": [
    "# In this cell, you can write your own \"main\" to run and evaluate your \n",
    "# implementation without using the visualisation below\n",
    "rows = 8\n",
    "cols = 8\n",
    "\n",
    "sm = StateModel(rows, cols)\n",
    "localizer = Localizer(sm)\n",
    "r,c, h = sm.get_grid_dimensions()\n",
    "\n",
    "nbr_moves = 1000\n",
    "total_error = 0\n",
    "correct_guesses = 0\n",
    "\n",
    "for s in range(1, nbr_moves+1):\n",
    "    sensed, trueR, trueC, trueH, sensedR, sensedC, guessedR, guessedC, error, f = localizer.update()\n",
    "    total_error += error\n",
    "    if error == 0:\n",
    "        correct_guesses += 1\n",
    "print('nbr of moves: {}, avg error: {}, nbr correct guesses: {}'.format(nbr_moves, total_error/nbr_moves, correct_guesses))\n",
    "\n"
   ]
  },
  {
   "cell_type": "code",
   "execution_count": null,
   "metadata": {},
   "outputs": [],
   "source": [
    "#Print plot of average and sucess rate\n",
    "import numpy as np\n",
    "import matplotlib.pyplot as plt\n",
    "\n",
    "rows = 8\n",
    "cols = 8\n",
    "\n",
    "sm = StateModel(rows, cols)\n",
    "localizer = Localizer(sm)\n",
    "\n",
    "avgErrors = []\n",
    "avgCorrectRate = []\n",
    "\n",
    "nbr_moves = 3000\n",
    "total_error = 0\n",
    "correct_guesses = 0\n",
    "\n",
    "for s in range(1, nbr_moves+1):\n",
    "    sensed, trueR, trueC, trueH, sensedR, sensedC, guessedR, guessedC, error, f = localizer.update()\n",
    "    total_error += error\n",
    "    if error == 0:\n",
    "        correct_guesses += 1\n",
    "    avgErrors.append(total_error/s)\n",
    "    avgCorrectRate.append(correct_guesses/s)\n",
    "\n",
    "plt.figure(figsize=(12,4))\n",
    "plt.suptitle(\"Grid size: 12x12\")\n",
    "plt.subplot(121)\n",
    "plt.xlabel(\"Iterations\")\n",
    "plt.ylabel(\"Avg Man Dist Error\")\n",
    "plt.plot(avgErrors)\n",
    "plt.subplot(122)\n",
    "plt.xlabel(\"Iterations\")\n",
    "plt.ylabel(\"Succes Rate\")\n",
    "plt.plot(avgCorrectRate)\n"
   ]
  },
  {
   "cell_type": "markdown",
   "metadata": {},
   "source": [
    "### Visualisation, both for transition and sensor probabilities and for actual runs of the filter, no changes needed"
   ]
  },
  {
   "cell_type": "code",
   "execution_count": null,
   "metadata": {},
   "outputs": [],
   "source": [
    "# In viewer, there is simply a file that handles all the thread based visualisation, no changes needed, \n",
    "# but feel free...\n",
    "\n",
    "from viewer import *\n",
    "\n",
    "ROWS = 4\n",
    "COLS = 4\n",
    "\n",
    "# the dashboard creates a state model of the dimensions given by ROWS and COLS, sets up the respective \n",
    "# Transition and Observation models, as well as an instance of class Localizer. All methods already \n",
    "# given in Localizer should thus keep their behaviour - otherwise the calls from Dashboard might result in \n",
    "# wrong output\n",
    "dash = Dashboard.Dashboard(ROWS, COLS)\n",
    "display(dash.db)\n"
   ]
  },
  {
   "cell_type": "code",
   "execution_count": null,
   "metadata": {
    "scrolled": false
   },
   "outputs": [],
   "source": []
  },
  {
   "cell_type": "code",
   "execution_count": null,
   "metadata": {},
   "outputs": [],
   "source": []
  }
 ],
 "metadata": {
  "kernelspec": {
   "display_name": "Python 3 (ipykernel)",
   "language": "python",
   "name": "python3"
  },
  "language_info": {
   "codemirror_mode": {
    "name": "ipython",
    "version": 3
   },
   "file_extension": ".py",
   "mimetype": "text/x-python",
   "name": "python",
   "nbconvert_exporter": "python",
   "pygments_lexer": "ipython3",
   "version": "3.10.2"
  }
 },
 "nbformat": 4,
 "nbformat_minor": 4
}
